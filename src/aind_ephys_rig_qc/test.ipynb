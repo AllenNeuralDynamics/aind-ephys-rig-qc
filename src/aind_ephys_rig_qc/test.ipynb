{
 "cells": [
  {
   "cell_type": "code",
   "execution_count": 1,
   "metadata": {},
   "outputs": [
    {
     "name": "stderr",
     "output_type": "stream",
     "text": [
      "c:\\Users\\zhixi\\Anaconda3\\envs\\rigqc\\Lib\\site-packages\\tqdm\\auto.py:21: TqdmWarning: IProgress not found. Please update jupyter and ipywidgets. See https://ipywidgets.readthedocs.io/en/stable/user_install.html\n",
      "  from .autonotebook import tqdm as notebook_tqdm\n"
     ]
    }
   ],
   "source": [
    "import aind_ephys_rig_qc.generate_report as generate_report\n",
    "from aind_ephys_rig_qc.qc_figures import plot_drift\n",
    "import matplotlib.pyplot as plt\n",
    "%matplotlib inline"
   ]
  },
  {
   "cell_type": "code",
   "execution_count": null,
   "metadata": {},
   "outputs": [],
   "source": [
    "dir = r'F:\\acuteBehavior\\729674\\729674_2024-11-06_13-16-02'\n",
    "dir = r'F:\\npOptoRecordings\\alignmenttest\\684930_2023-09-28_12-44-15'\n",
    "generate_report.generate_qc_report(dir, timestamp_alignment_method=\"harp\")"
   ]
  },
  {
   "cell_type": "code",
   "execution_count": 2,
   "metadata": {},
   "outputs": [
    {
     "name": "stderr",
     "output_type": "stream",
     "text": [
      "pipeline: 100%|██████████| 4218/4218 [2:23:50<00:00,  2.05s/it]  \n"
     ]
    }
   ],
   "source": [
    "dir = r'F:\\acuteBehavior\\729674\\729674_2024-11-06_13-16-02'\n",
    "fig = plot_drift(dir, 'ProbeA', block_index=0)\n",
    "fig.savefig('testephy4.png') "
   ]
  },
  {
   "cell_type": "code",
   "execution_count": 5,
   "metadata": {},
   "outputs": [],
   "source": []
  }
 ],
 "metadata": {
  "kernelspec": {
   "display_name": "rigqc",
   "language": "python",
   "name": "python3"
  },
  "language_info": {
   "codemirror_mode": {
    "name": "ipython",
    "version": 3
   },
   "file_extension": ".py",
   "mimetype": "text/x-python",
   "name": "python",
   "nbconvert_exporter": "python",
   "pygments_lexer": "ipython3",
   "version": "3.11.9"
  }
 },
 "nbformat": 4,
 "nbformat_minor": 2
}
